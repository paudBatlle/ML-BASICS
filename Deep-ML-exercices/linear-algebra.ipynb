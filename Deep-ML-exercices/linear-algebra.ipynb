{
 "cells": [
  {
   "cell_type": "markdown",
   "metadata": {},
   "source": [
    "### 1. Matrix times Vector (easy)\n",
    "Write a Python function that takes the dot product of a matrix and a vector. return -1 if the matrix could not be dotted with the vector"
   ]
  },
  {
   "cell_type": "code",
   "execution_count": 5,
   "metadata": {},
   "outputs": [
    {
     "name": "stdout",
     "output_type": "stream",
     "text": [
      "[ 5. 10.]\n"
     ]
    }
   ],
   "source": [
    "import numpy as np\n",
    "\n",
    "def matrix_dot_vector(a:list[list[int|float]],b:list[int|float])-> list[int|float]:\n",
    "\t# a: matrix (nxm)\n",
    "\t# b: vector (mx1)\n",
    "    # c: vector (nx1)\n",
    "    if len(a[0]) != len(b):\n",
    "        return -1\n",
    "    else:\n",
    "        # Option 1\n",
    "        c = np.zeros(len(a))\n",
    "        for i,row in enumerate(a):\n",
    "            c[i] = sum(row[j]*b[j] for j in range(0,len(b)))\n",
    "        return c\n",
    "        # Option 2\n",
    "        # vals = []\n",
    "        # for i in a:\n",
    "        #     hold = 0\n",
    "        #     for j in range(len(i)):\n",
    "        #         hold+=(i[j] * b[j])\n",
    "        #     vals.append(hold)\n",
    "\n",
    "a = [[1,2],[2,4]]\n",
    "b = [1,2]\n",
    "c = matrix_dot_vector(a,b)\n",
    "print(c)"
   ]
  },
  {
   "cell_type": "markdown",
   "metadata": {},
   "source": [
    "### 2. Transpose of a Matrix (easy)\n",
    "Write a Python function that computes the transpose of a given matrix."
   ]
  },
  {
   "cell_type": "code",
   "execution_count": 14,
   "metadata": {},
   "outputs": [
    {
     "name": "stdout",
     "output_type": "stream",
     "text": [
      "num: 0 i: (1, 4)\n",
      "num: 1 i: (2, 5)\n",
      "num: 2 i: (3, 6)\n",
      "[]\n"
     ]
    }
   ],
   "source": [
    "def transpose_matrix(a: list[list[int|float]]) -> list[list[int|float]]:\n",
    "    b = []\n",
    "    num_rows = len(a)\n",
    "    num_cols = len(a[0])\n",
    "    transposed = [[0] * rows for _ in range(cols)]\n",
    "\n",
    "    # If num rows = 2 and num_cols=3\n",
    "    # b[0] = [a[0][0],a[1][0]]\n",
    "    # b[1] = [a[0][1],a[1][1]]\n",
    "    # b[2] = [a[0][2],a[1][2]]\n",
    "    # Option 1\n",
    "    b = [list(i) for i in zip(*a)]\n",
    "    # Option 2\n",
    "    # for i in range(rows):\n",
    "    #     for j in range(cols):\n",
    "    #         transposed[j][i] = a[i][j]\n",
    "    # return transposed\n",
    "    \n",
    "\n",
    "    return b\n",
    "\n",
    "a = [[1,2,3],[4,5,6]]\n",
    "b = transpose_matrix(a)\n",
    "print(b)"
   ]
  },
  {
   "cell_type": "markdown",
   "metadata": {},
   "source": [
    "### 3. Reshape Matrix (easy)\n",
    "Write a Python function that reshapes a given matrix into a specified shape."
   ]
  },
  {
   "cell_type": "code",
   "execution_count": 25,
   "metadata": {},
   "outputs": [
    {
     "name": "stdout",
     "output_type": "stream",
     "text": [
      "row:[1, 2, 3, 4] i:0\n",
      "row:[1, 2, 3, 4] i:2\n",
      "row:[5, 6, 7, 8] i:0\n",
      "row:[5, 6, 7, 8] i:2\n",
      "[[1, 2], [3, 4], [5, 6], [7, 8]]\n"
     ]
    }
   ],
   "source": [
    "import numpy as np\n",
    "\n",
    "def reshape_matrix(a: list[list[int|float]], new_shape: tuple[int, int]) -> list[list[int|float]]:\n",
    "    #Option 1\n",
    "    reshaped_matrix = []\n",
    "\n",
    "    #Make sure that there are the same elements in both 2D matrices \n",
    "    num_rows = len(a)\n",
    "    num_cols = len(a[0])\n",
    "    num_elem = num_rows * num_cols\n",
    "    num_new_elem = new_shape[0] * new_shape[1]\n",
    "\n",
    "    if num_elem != num_new_elem:\n",
    "        return -1\n",
    "\n",
    "    else:\n",
    "        for row in a:\n",
    "            for i in range(0,num_cols,new_shape[1]):\n",
    "                print(f'row:{row} i:{i}')\n",
    "                reshaped_matrix.append([row[j] for j in range(i, i+new_shape[1])])\n",
    "            \n",
    "    return reshaped_matrix\n",
    "\n",
    "    #Option 2\n",
    "    #reshaped_matrix = np.array(a).reshape(new_shape).tolist()\n",
    "    #return reshaped_matrix\n",
    "\n",
    "\n",
    "a = [[1,2,3,4],[5,6,7,8]]\n",
    "new_shape = (4, 2)\n",
    "reshaped = reshape_matrix(a,new_shape)\n",
    "print(reshaped)\n"
   ]
  },
  {
   "cell_type": "markdown",
   "metadata": {},
   "source": [
    "### 4. Calculate Mean by Row or Column (easy)\n",
    "Write a Python function that calculates the mean of a matrix either by row or by column, based on a given mode. The function should take a matrix (list of lists) and a mode ('row' or 'column') as input and return a list of means according to the specified mode."
   ]
  },
  {
   "cell_type": "code",
   "execution_count": 27,
   "metadata": {},
   "outputs": [
    {
     "name": "stdout",
     "output_type": "stream",
     "text": [
      "column: (1, 4, 7)\n",
      "column: (2, 5, 8)\n",
      "column: (3, 6, 9)\n",
      "[4.0, 5.0, 6.0]\n"
     ]
    }
   ],
   "source": [
    "def calculate_matrix_mean(matrix: list[list[float]], mode: str) -> list[float]:\n",
    "    means = []\n",
    "    if mode == 'column':\n",
    "        for col in zip(*matrix):\n",
    "            num_elem = len(matrix[0])\n",
    "            means.append(sum(col)/num_elem)\n",
    "            print('column:',col)\n",
    "            \n",
    "    else:\n",
    "        for row in matrix:\n",
    "            num_elem = len(matrix)\n",
    "            means.append(sum(row)/num_elem)\n",
    "            print('row:',row)\n",
    "\n",
    "    return means\n",
    "\n",
    "matrix = [[1, 2, 3], [4, 5, 6], [7, 8, 9]]\n",
    "mode = 'column'\n",
    "output = calculate_matrix_mean(matrix,mode)\n",
    "print(output)\n"
   ]
  },
  {
   "cell_type": "markdown",
   "metadata": {},
   "source": [
    "### 5. Scalar Multiplication of a Matrix (easy)\n",
    "Write a Python function that multiplies a matrix by a scalar and returns the result."
   ]
  },
  {
   "cell_type": "code",
   "execution_count": 3,
   "metadata": {},
   "outputs": [
    {
     "name": "stdout",
     "output_type": "stream",
     "text": [
      "[[2, 4], [6, 8]]\n"
     ]
    }
   ],
   "source": [
    "def scalar_multiply(matrix: list[list[int|float]], scalar: int|float) -> list[list[int|float]]:\n",
    "    # Brute force:\n",
    "    result = []\n",
    "    for row in matrix:\n",
    "        result.append([value * scalar for value in row])\n",
    "    return result\n",
    "\n",
    "matrix = [[1, 2], [3, 4]]\n",
    "scalar = 2\n",
    "result = scalar_multiply(matrix,scalar)\n",
    "print(result)"
   ]
  },
  {
   "cell_type": "markdown",
   "metadata": {},
   "source": [
    "### 6. Calculate Eigenvalues of a Matrix (medium)\n",
    "Write a Python function that calculates the eigenvalues of a 2x2 matrix. The function should return a list containing the eigenvalues, sort values from highest to lowest."
   ]
  },
  {
   "cell_type": "code",
   "execution_count": 6,
   "metadata": {},
   "outputs": [
    {
     "name": "stdout",
     "output_type": "stream",
     "text": [
      "[3.0, 1.0]\n"
     ]
    }
   ],
   "source": [
    "def calculate_eigenvalues(matrix: list[list[float|int]]) -> list[float]:\n",
    "\t# characteristic equation: |A-lambda*I| = 0\n",
    "    a, b, c, d = matrix[0][0], matrix[0][1], matrix[1][0], matrix[1][1]\n",
    "    trace = a + d\n",
    "    determinant = a * d - b * c\n",
    "    # Calculate the discriminant of the quadratic equation\n",
    "    discriminant = trace**2 - 4 * determinant\n",
    "    # Solve for eigenvalues\n",
    "    lambda_1 = (trace + discriminant**0.5) / 2\n",
    "    lambda_2 = (trace - discriminant**0.5) / 2\n",
    "    return [lambda_1, lambda_2]\n",
    "    \n",
    "matrix = [[2, 1], [1, 2]]\n",
    "eigenvalues = calculate_eigenvalues(matrix)\n",
    "print(eigenvalues)\n"
   ]
  },
  {
   "cell_type": "code",
   "execution_count": null,
   "metadata": {},
   "outputs": [],
   "source": []
  }
 ],
 "metadata": {
  "kernelspec": {
   "display_name": "base",
   "language": "python",
   "name": "python3"
  },
  "language_info": {
   "codemirror_mode": {
    "name": "ipython",
    "version": 3
   },
   "file_extension": ".py",
   "mimetype": "text/x-python",
   "name": "python",
   "nbconvert_exporter": "python",
   "pygments_lexer": "ipython3",
   "version": "3.10.14"
  }
 },
 "nbformat": 4,
 "nbformat_minor": 2
}
