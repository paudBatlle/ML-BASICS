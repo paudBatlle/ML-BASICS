{
 "cells": [
  {
   "cell_type": "markdown",
   "metadata": {},
   "source": [
    "### 14. Linear Regression Using Normal Equation (easy)\n",
    "Write a Python function that performs linear regression using the normal equation. The function should take a matrix X (features) and a vector y (target) as input, and return the coefficients of the linear regression model. Round your answer to four decimal places, -0.0 is a valid result for rounding a very small number."
   ]
  },
  {
   "cell_type": "code",
   "execution_count": 2,
   "metadata": {},
   "outputs": [
    {
     "name": "stdout",
     "output_type": "stream",
     "text": [
      "y before reshaping: [1, 2, 3]\n",
      "y after reshaping: [[1]\n",
      " [2]\n",
      " [3]]\n",
      "[0.0, 1.0]\n"
     ]
    }
   ],
   "source": [
    "import numpy as np\n",
    "def linear_regression_normal_equation(X: list[list[float]], y: list[float]) -> list[float]:\n",
    "\t# Normal Equation: (X^T * X)^-1 * X^T * y\n",
    "\tX = np.array(X)\n",
    "\ty = np.array(y).reshape(-1,1)\n",
    "\tXT = X.T\n",
    "\tcoef = np.linalg.inv(XT.dot(X)).dot(XT).dot(y)\n",
    "\tcoef = np.round(coef,4).flatten().tolist()\n",
    "\treturn coef\n",
    "\n",
    "X = [[1, 1], [1, 2], [1, 3]] \n",
    "y = [1, 2, 3]\n",
    "coef = linear_regression_normal_equation(X,y)\n",
    "print(coef)"
   ]
  },
  {
   "cell_type": "markdown",
   "metadata": {},
   "source": [
    "### 15. Linear Regression Using Gradient Descent (easy)\n",
    "Write a Python function that performs linear regression using gradient descent. The function should take NumPy arrays X (features with a column of ones for the intercept) and y (target) as input, along with learning rate alpha and the number of iterations, and return the coefficients of the linear regression model as a NumPy array. Round your answer to four decimal places. -0.0 is a valid result for rounding a very small number."
   ]
  },
  {
   "cell_type": "code",
   "execution_count": 5,
   "metadata": {},
   "outputs": [
    {
     "name": "stdout",
     "output_type": "stream",
     "text": [
      "[0.1107 0.9513]\n"
     ]
    }
   ],
   "source": [
    "import numpy as np\n",
    "def linear_regression_gradient_descent(X: np.ndarray, y: np.ndarray, alpha: float, iterations: int) -> np.ndarray:\n",
    "    m, n = X.shape\n",
    "    theta = np.zeros((n, 1))\n",
    "    y = y.reshape(-1,1)\n",
    "    for _ in range(iterations):\n",
    "        predictions = X @ theta # X.dot(theta)\n",
    "        errors = predictions - y\n",
    "        updates = X.T @ errors / m # X.T.dot(errors)\n",
    "        theta -= alpha * updates\n",
    "    return np.round(theta.flatten(),4)\n",
    "\n",
    "X = np.array([[1, 1], [1, 2], [1, 3]])\n",
    "y = np.array([1, 2, 3])\n",
    "alpha = 0.01\n",
    "iterations = 1000\n",
    "# output: np.array([0.1107, 0.9513])\n",
    "out = linear_regression_gradient_descent(X,y,alpha,iterations)\n",
    "print(out)"
   ]
  },
  {
   "cell_type": "markdown",
   "metadata": {},
   "source": [
    "### 16. Feature Scaling Implementation (easy)\n",
    "Write a Python function that performs feature scaling on a dataset using both standardization and min-max normalization. The function should take a 2D NumPy array as input, where each row represents a data sample and each column represents a feature. It should return two 2D NumPy arrays: one scaled by standardization and one by min-max normalization. Make sure all results are rounded to the nearest 4th decimal."
   ]
  },
  {
   "cell_type": "code",
   "execution_count": 8,
   "metadata": {},
   "outputs": [
    {
     "name": "stdout",
     "output_type": "stream",
     "text": [
      "[[-1.2247, -1.2247], [0.0, 0.0], [1.2247, 1.2247]]\n",
      "[[0.0, 0.0], [0.5, 0.5], [1.0, 1.0]]\n"
     ]
    }
   ],
   "source": [
    "import numpy as np\n",
    "def feature_scaling(data: np.ndarray) -> (np.ndarray, np.ndarray):\n",
    "\t# Standarization: value = X-mean / std\n",
    "\tmean = data.mean(axis=0)\n",
    "\tstd = data.std(axis=0)\n",
    "\tstandardized_data = (data-mean)/std\n",
    "\t\n",
    "\t# # Min-Max norm: value-min / max-min\n",
    "\tmin_val = np.min(data,axis=0)\n",
    "\tmax_val = np.max(data,axis=0)\n",
    "\tnormalized_data = (data-min_val)/(max_val-min_val)\n",
    "\n",
    "\treturn np.round(standardized_data,4).tolist(), np.round(normalized_data,4).tolist()\n",
    "\n",
    "data = np.array([[1, 2], [3, 4], [5, 6]])\n",
    "st,nm = feature_scaling(data)\n",
    "print(st)\n",
    "print(nm)"
   ]
  },
  {
   "cell_type": "markdown",
   "metadata": {},
   "source": [
    "### 17. K-Means Clustering (medium)\n",
    "Your task is to write a Python function that implements the k-Means clustering algorithm. This function should take specific inputs and produce a list of final centroids. k-Means clustering is a method used to partition n points into k clusters. The goal is to group similar points together and represent each group by its center (called the centroid).\n",
    "\n",
    "Function Inputs:\n",
    "points: A list of points, where each point is a tuple of coordinates (e.g., (x, y) for 2D points)\n",
    "k: An integer representing the number of clusters to form\n",
    "initial_centroids: A list of initial centroid points, each a tuple of coordinates\n",
    "max_iterations: An integer representing the maximum number of iterations to perform\n",
    "Function Output:\n",
    "A list of the final centroids of the clusters, where each centroid is rounded to the nearest fourth decimal.\n",
    "\n"
   ]
  },
  {
   "cell_type": "code",
   "execution_count": 11,
   "metadata": {},
   "outputs": [
    {
     "name": "stdout",
     "output_type": "stream",
     "text": [
      "final centroids [[1.2903225806451613, 1.935483870967742], [10.0, 2.0689655172413794]]\n"
     ]
    },
    {
     "data": {
      "text/plain": [
       "<matplotlib.collections.PathCollection at 0x7f7ec94ae260>"
      ]
     },
     "execution_count": 11,
     "metadata": {},
     "output_type": "execute_result"
    },
    {
     "data": {
      "image/png": "[encoded data removed]",
      "text/plain": [
       "<Figure size 640x480 with 1 Axes>"
      ]
     },
     "metadata": {},
     "output_type": "display_data"
    }
   ],
   "source": [
    "import numpy as np\n",
    "import matplotlib.pyplot as plt\n",
    "def k_means_clustering(points: list[tuple[float, float]], k: int, initial_centroids: list[tuple[float, float]], max_iterations: int) -> list[tuple[float, float]]:\n",
    "    clusters = [[] for _ in range(k)]\n",
    "    centroids = initial_centroids\n",
    "    for iter in range(max_iterations):\n",
    "        #assign a centroid to each point using eculidean distance\n",
    "        for point in points:\n",
    "            distances_to_centroids = [np.linalg.norm(np.array(point)-np.array(centroid)) for centroid in centroids]\n",
    "            cluster_assg = np.argmin(distances_to_centroids)\n",
    "            clusters[cluster_assg].append(point)\n",
    "    \n",
    "        #Calculate new centroids (mean of all points)\n",
    "        centroids = []\n",
    "        for cluster in clusters:\n",
    "            means = [np.mean(dim) for dim in zip(*cluster)]\n",
    "            centroids.append(means)\n",
    "    \n",
    "    return centroids\n",
    "\n",
    "points = [(1, 2), (1, 4), (1, 0), (10, 2), (10, 4), (10, 0)]\n",
    "k = 2\n",
    "initial_centroids = [(4,4), (6, 6)]\n",
    "max_iterations = 10\n",
    "final_centroids = k_means_clustering(points,k,initial_centroids,max_iterations)\n",
    "print('final centroids',final_centroids)\n",
    "\n",
    "x = []\n",
    "y = []\n",
    "for point in points:\n",
    "    x.append(point[0])\n",
    "    y.append(point[1])\n",
    "\n",
    "for centroid in final_centroids:\n",
    "    x.append(centroid[0])\n",
    "    y.append(centroid[1])\n",
    "plt.scatter(x,y)"
   ]
  },
  {
   "cell_type": "markdown",
   "metadata": {},
   "source": [
    "### 18. Cross-Validation Data Split Implementation (medium)\n",
    "Write a Python function that performs k-fold cross-validation data splitting from scratch. The function should take a dataset (as a 2D NumPy array where each row represents a data sample and each column represents a feature) and an integer k representing the number of folds. The function should split the dataset into k parts, systematically use one part as the test set and the remaining as the training set, and return a list where each element is a tuple containing the training set and test set for each fold."
   ]
  },
  {
   "cell_type": "code",
   "execution_count": 27,
   "metadata": {},
   "outputs": [
    {
     "name": "stdout",
     "output_type": "stream",
     "text": [
      "[[[[3, 4], [5, 6], [7, 8], [9, 10]], [[1, 2]]], [[[1, 2], [5, 6], [7, 8], [9, 10]], [[3, 4]]], [[[1, 2], [3, 4], [7, 8], [9, 10]], [[5, 6]]], [[[1, 2], [3, 4], [5, 6], [9, 10]], [[7, 8]]], [[[1, 2], [3, 4], [5, 6], [7, 8]], [[9, 10]]]]\n"
     ]
    }
   ],
   "source": [
    "import numpy as np\n",
    "def cross_validation_split(data: np.ndarray, k: int, seed=42) -> list:\n",
    "    np.random.seed(seed)\n",
    "    #np.random.shuffle(data)\n",
    "\n",
    "    n, m = data.shape\n",
    "    sub_size = int(np.ceil(n/k))\n",
    "    id_s = np.arange(0, n, sub_size) # start indices for each fold\n",
    "    id_e = id_s + sub_size # end indices for each fold\n",
    "    if id_e[-1] > n: id_e[-1] = n # if last elem is bigger that the number of points, adjust to only contain the remaining points\n",
    "    \n",
    "    return [[np.concatenate([data[: id_s[i]], data[id_e[i]:]], axis=0).tolist(), data[id_s[i]: id_e[i]].tolist()] for i in range(k)]\n",
    "\n",
    "data = np.array([[1, 2], [3, 4], [5, 6], [7, 8], [9, 10]])\n",
    "k = 5\n",
    "kfolds = cross_validation_split(data, k)\n",
    "print(kfolds)"
   ]
  },
  {
   "cell_type": "markdown",
   "metadata": {},
   "source": [
    "### 19. Principal Component Analysis (PCA) Implementation (medium)\n",
    "Write a Python function that performs Principal Component Analysis (PCA) from scratch. The function should take a 2D NumPy array as input, where each row represents a data sample and each column represents a feature. The function should standardize the dataset, compute the covariance matrix, find the eigenvalues and eigenvectors, and return the principal components (the eigenvectors corresponding to the largest eigenvalues). The function should also take an integer k as input, representing the number of principal components to return."
   ]
  },
  {
   "cell_type": "code",
   "execution_count": null,
   "metadata": {},
   "outputs": [],
   "source": []
  },
  {
   "cell_type": "code",
   "execution_count": null,
   "metadata": {},
   "outputs": [],
   "source": []
  }
 ],
 "metadata": {
  "kernelspec": {
   "display_name": "base",
   "language": "python",
   "name": "python3"
  },
  "language_info": {
   "codemirror_mode": {
    "name": "ipython",
    "version": 3
   },
   "file_extension": ".py",
   "mimetype": "text/x-python",
   "name": "python",
   "nbconvert_exporter": "python",
   "pygments_lexer": "ipython3",
   "version": "3.10.14"
  }
 },
 "nbformat": 4,
 "nbformat_minor": 2
}
