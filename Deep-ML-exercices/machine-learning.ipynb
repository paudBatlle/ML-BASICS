{
 "cells": [
  {
   "cell_type": "markdown",
   "metadata": {},
   "source": [
    "### 14. Linear Regression Using Normal Equation (easy)\n",
    "Write a Python function that performs linear regression using the normal equation. The function should take a matrix X (features) and a vector y (target) as input, and return the coefficients of the linear regression model. Round your answer to four decimal places, -0.0 is a valid result for rounding a very small number."
   ]
  },
  {
   "cell_type": "code",
   "execution_count": 2,
   "metadata": {},
   "outputs": [
    {
     "name": "stdout",
     "output_type": "stream",
     "text": [
      "y before reshaping: [1, 2, 3]\n",
      "y after reshaping: [[1]\n",
      " [2]\n",
      " [3]]\n",
      "[0.0, 1.0]\n"
     ]
    }
   ],
   "source": [
    "import numpy as np\n",
    "def linear_regression_normal_equation(X: list[list[float]], y: list[float]) -> list[float]:\n",
    "\t# Normal Equation: (X^T * X)^-1 * X^T * y\n",
    "\tX = np.array(X)\n",
    "\ty = np.array(y).reshape(-1,1)\n",
    "\tXT = X.T\n",
    "\tcoef = np.linalg.inv(XT.dot(X)).dot(XT).dot(y)\n",
    "\tcoef = np.round(coef,4).flatten().tolist()\n",
    "\treturn coef\n",
    "\n",
    "X = [[1, 1], [1, 2], [1, 3]] \n",
    "y = [1, 2, 3]\n",
    "coef = linear_regression_normal_equation(X,y)\n",
    "print(coef)"
   ]
  },
  {
   "cell_type": "markdown",
   "metadata": {},
   "source": [
    "### 15. Linear Regression Using Gradient Descent (easy)\n",
    "Write a Python function that performs linear regression using gradient descent. The function should take NumPy arrays X (features with a column of ones for the intercept) and y (target) as input, along with learning rate alpha and the number of iterations, and return the coefficients of the linear regression model as a NumPy array. Round your answer to four decimal places. -0.0 is a valid result for rounding a very small number."
   ]
  },
  {
   "cell_type": "code",
   "execution_count": 5,
   "metadata": {},
   "outputs": [
    {
     "name": "stdout",
     "output_type": "stream",
     "text": [
      "[0.1107 0.9513]\n"
     ]
    }
   ],
   "source": [
    "import numpy as np\n",
    "def linear_regression_gradient_descent(X: np.ndarray, y: np.ndarray, alpha: float, iterations: int) -> np.ndarray:\n",
    "    m, n = X.shape\n",
    "    theta = np.zeros((n, 1))\n",
    "    y = y.reshape(-1,1)\n",
    "    for _ in range(iterations):\n",
    "        predictions = X @ theta # X.dot(theta)\n",
    "        errors = predictions - y\n",
    "        updates = X.T @ errors / m # X.T.dot(errors)\n",
    "        theta -= alpha * updates\n",
    "    return np.round(theta.flatten(),4)\n",
    "\n",
    "X = np.array([[1, 1], [1, 2], [1, 3]])\n",
    "y = np.array([1, 2, 3])\n",
    "alpha = 0.01\n",
    "iterations = 1000\n",
    "# output: np.array([0.1107, 0.9513])\n",
    "out = linear_regression_gradient_descent(X,y,alpha,iterations)\n",
    "print(out)"
   ]
  },
  {
   "cell_type": "markdown",
   "metadata": {},
   "source": [
    "### 16. Feature Scaling Implementation (easy)\n",
    "Write a Python function that performs feature scaling on a dataset using both standardization and min-max normalization. The function should take a 2D NumPy array as input, where each row represents a data sample and each column represents a feature. It should return two 2D NumPy arrays: one scaled by standardization and one by min-max normalization. Make sure all results are rounded to the nearest 4th decimal."
   ]
  },
  {
   "cell_type": "code",
   "execution_count": null,
   "metadata": {},
   "outputs": [],
   "source": [
    "def feature_scaling(data: np.ndarray) -> (np.ndarray, np.ndarray):\n",
    "\treturn standardized_data, normalized_data"
   ]
  }
 ],
 "metadata": {
  "kernelspec": {
   "display_name": "base",
   "language": "python",
   "name": "python3"
  },
  "language_info": {
   "codemirror_mode": {
    "name": "ipython",
    "version": 3
   },
   "file_extension": ".py",
   "mimetype": "text/x-python",
   "name": "python",
   "nbconvert_exporter": "python",
   "pygments_lexer": "ipython3",
   "version": "3.10.14"
  }
 },
 "nbformat": 4,
 "nbformat_minor": 2
}
