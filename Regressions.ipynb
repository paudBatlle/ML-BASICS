{
 "cells": [
  {
   "cell_type": "code",
   "execution_count": null,
   "metadata": {},
   "outputs": [],
   "source": [
    "import numpy as np\n",
    "\n",
    "class LinearRegression:\n",
    "    def __init__(self):\n",
    "        self.intercept = None\n",
    "        self.coefficients = None\n",
    "\n",
    "    def fit(self, X, y):\n",
    "        ones = np.ones((len(X),1))\n",
    "        X = np.concatenate((ones,X), axis = 1)\n",
    "\n",
    "        #Normal Equation: (X^T * X)^-1 * X^T * y\n",
    "        XT = X.T # Transpose of X\n",
    "        XTX = XT.dot(X) # X^T * X\n",
    "        XTX_inv = np.linalg.inv(XTX) # Inverse of X^T * X\n",
    "        XTy = XT.dot(y) # X^T * y\n",
    "        self.coefficients = XTX_inv.dot(XTy) # Calculat the coefficients\n",
    "\n",
    "    def predict(self, X):\n",
    "        ones = np.ones((len(X),1))\n",
    "        X = np.concatenate((ones,X),axis = 1)\n",
    "\n",
    "        return X.dot(self.coefficients)\n",
    "\n",
    "    def Rsquared(self, X, y):\n",
    "        # Metric to evaluate model performance\n",
    "        ypred = self.predict(X)\n",
    "        ss_total = np.sum((y-np.mean(ypred)**2))\n",
    "        ss_residual = np.sum((y-ypred)**2)\n",
    "        return 1 - (ss_residual / ss_total) \n",
    "\n",
    "# Sample data\n",
    "X = np.array([[1],[2],[3],[4],[5]])\n",
    "y = np.array([1,2,3,4,5])\n",
    "\n",
    "model = LinearRegressionModel()\n",
    "model.fit(X, y)\n",
    "\n",
    "ypred = model.predict(X)\n",
    "print(ypred)\n",
    "\n",
    "r2 = model.Rsquared(X, y)\n",
    "print(r2)\n"
   ]
  },
  {
   "cell_type": "code",
   "execution_count": null,
   "metadata": {},
   "outputs": [],
   "source": [
    "class MultiVarLinearReg():"
   ]
  },
  {
   "cell_type": "code",
   "execution_count": null,
   "metadata": {},
   "outputs": [],
   "source": [
    "import numpy as np\n",
    "\n",
    "class LogisticRegression():"
   ]
  },
  {
   "cell_type": "code",
   "execution_count": null,
   "metadata": {},
   "outputs": [],
   "source": []
  }
 ],
 "metadata": {
  "language_info": {
   "name": "python"
  }
 },
 "nbformat": 4,
 "nbformat_minor": 2
}
